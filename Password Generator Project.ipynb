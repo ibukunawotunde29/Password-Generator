{
 "cells": [
  {
   "cell_type": "code",
   "execution_count": 6,
   "metadata": {},
   "outputs": [
    {
     "name": "stdout",
     "output_type": "stream",
     "text": [
      "Input the Total Number of passwords you want to generate?1\n",
      "Password Length?11\n",
      "Your Password is : xfus0f0p22v\n"
     ]
    }
   ],
   "source": [
    "\n",
    "import random\n",
    "\n",
    "char = 'abcdefghijklmnopqrstuvwxyz1234567890!@#$%^&*()'\n",
    "\n",
    "long = int(input(\"Input the Total Number of passwords you want to generate?\"))\n",
    "\n",
    "\n",
    "\n",
    "for p in range(long):\n",
    " \n",
    "    length = input(\"Password Length?\")\n",
    "  \n",
    "    length = int(length)\n",
    "\n",
    "    password = ''\n",
    "  \n",
    "    for c in range(length):\n",
    "    \n",
    "       password += random.choice(char)\n",
    "  \n",
    "    print (\"Your Password is :\",password)\n"
   ]
  },
  {
   "cell_type": "code",
   "execution_count": null,
   "metadata": {},
   "outputs": [],
   "source": []
  },
  {
   "cell_type": "code",
   "execution_count": null,
   "metadata": {},
   "outputs": [],
   "source": []
  },
  {
   "cell_type": "code",
   "execution_count": null,
   "metadata": {},
   "outputs": [],
   "source": []
  },
  {
   "cell_type": "code",
   "execution_count": null,
   "metadata": {},
   "outputs": [],
   "source": []
  },
  {
   "cell_type": "code",
   "execution_count": null,
   "metadata": {},
   "outputs": [],
   "source": []
  }
 ],
 "metadata": {
  "kernelspec": {
   "display_name": "Python 3",
   "language": "python",
   "name": "python3"
  },
  "language_info": {
   "codemirror_mode": {
    "name": "ipython",
    "version": 3
   },
   "file_extension": ".py",
   "mimetype": "text/x-python",
   "name": "python",
   "nbconvert_exporter": "python",
   "pygments_lexer": "ipython3",
   "version": "3.8.3"
  }
 },
 "nbformat": 4,
 "nbformat_minor": 2
}
